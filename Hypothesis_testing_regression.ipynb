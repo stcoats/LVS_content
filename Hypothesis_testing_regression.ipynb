{
  "nbformat": 4,
  "nbformat_minor": 0,
  "metadata": {
    "colab": {
      "provenance": [],
      "authorship_tag": "ABX9TyNFVWuvU80iTEhmUcXs0TeD",
      "include_colab_link": true
    },
    "kernelspec": {
      "name": "ir",
      "display_name": "R"
    },
    "language_info": {
      "name": "R"
    }
  },
  "cells": [
    {
      "cell_type": "markdown",
      "metadata": {
        "id": "view-in-github",
        "colab_type": "text"
      },
      "source": [
        "<a href=\"https://colab.research.google.com/github/stcoats/LVS_content/blob/main/Hypothesis_testing_regression.ipynb\" target=\"_parent\"><img src=\"https://colab.research.google.com/assets/colab-badge.svg\" alt=\"Open In Colab\"/></a>"
      ]
    },
    {
      "cell_type": "markdown",
      "source": [
        "## Regression workshop\n",
        "\n",
        "In this workshop we will use R to do some basic hypothesis tests and regression tasks. First, we will do a few hypothesis tests. Then, we will do a linear regression using height and weight and a logistic regression.\n",
        "\n",
        "Work with a partner going through the cells. Discuss what is going on in each cell. Post your results to the slides linked in the lecture."
      ],
      "metadata": {
        "id": "77744k73oB_U"
      }
    },
    {
      "cell_type": "markdown",
      "source": [
        "An exam was given for a course in which 41 females and 31 males are enrolled. There were 35 females and 20 males present at the exam. Test the $H_0$ that females and males attended the exam at the same rate!\n"
      ],
      "metadata": {
        "id": "RaM4dKS0XTfs"
      }
    },
    {
      "cell_type": "code",
      "source": [
        "#Fill in the correct values. Remember the sum should be the total number of persons in the course!\n",
        "\n",
        "contingency.table <- matrix(c( , , , ), ncol = 2)"
      ],
      "metadata": {
        "id": "IPJcMLC6WxiH"
      },
      "execution_count": 24,
      "outputs": []
    },
    {
      "cell_type": "code",
      "source": [
        "#Inspect the table\n",
        "contingency.table"
      ],
      "metadata": {
        "id": "_xrz_H-JWxk3"
      },
      "execution_count": null,
      "outputs": []
    },
    {
      "cell_type": "code",
      "source": [
        "#Write out the correct function for the Chi-squared test by copying the text from the lecture slide!\n",
        "\n",
        "chisq.test(contingency.table, correct=FALSE)"
      ],
      "metadata": {
        "id": "FHinNKEXWxnj"
      },
      "execution_count": null,
      "outputs": []
    },
    {
      "cell_type": "markdown",
      "source": [
        "Post the results to the slides\n",
        "\n",
        "- What is the value of the test statistic?\n",
        "- What is the p-value?\n",
        "- What do you conclude about the $H_0$?"
      ],
      "metadata": {
        "id": "Dl78zPONc_EB"
      }
    },
    {
      "cell_type": "markdown",
      "source": [
        "Now let's try some basic regression."
      ],
      "metadata": {
        "id": "AdmZVi56dYli"
      }
    },
    {
      "cell_type": "code",
      "execution_count": null,
      "metadata": {
        "id": "Kg2kgAbAx_LA"
      },
      "outputs": [],
      "source": [
        "#Can we predict height from weight?\n",
        "\n",
        "library(\"ggplot2\")\n",
        "set.seed(2)\n",
        "\n",
        "height <- c(175, 168, 170, 171, 169, 165, 165, 160, 180, 186) #some height values\n",
        "weight <- c(80, 68, 72, 75, 70, 65, 62, 60, 85, 90)    #some weight values\n",
        "\n",
        "df<-data.frame(height,weight)\n",
        "names(df)<-c(\"y\",\"x\")\n",
        "m<-lm(y~x,df)  # this is the model that regresses height as a function of weight\n",
        "\n",
        "lm_eqn <- function(df){\n",
        "  m <- lm(y ~ x, df);\n",
        "  eq <- substitute(italic(y) == a + b * italic(x)*\",\" ~ italic(r)^2 ~ \"=\" ~ r2,\n",
        "                       list(a = format(coef(m)[1], digits = 2)[[1]],\n",
        "                            b = format(coef(m)[2], digits = 2)[[1]],\n",
        "                            r2 = format(summary(m)$r.squared, digits = 3)))\n",
        "  as.character(as.expression(eq));\n",
        "}\n",
        "res <- signif(residuals(m), 5)\n",
        "pre <- predict(m) # plot distances between points and the regression line\n"
      ]
    },
    {
      "cell_type": "markdown",
      "source": [
        "Let's inspect our data frame."
      ],
      "metadata": {
        "id": "cT2Ldx0mobdc"
      }
    },
    {
      "cell_type": "code",
      "source": [
        "df"
      ],
      "metadata": {
        "id": "aaXVsftMnZHg"
      },
      "execution_count": null,
      "outputs": []
    },
    {
      "cell_type": "markdown",
      "source": [
        "This shows us the regression line"
      ],
      "metadata": {
        "id": "kYysloC_yuG7"
      }
    },
    {
      "cell_type": "code",
      "source": [
        "ggplot(df,aes(x=x,y=y))+geom_point()+\n",
        "  xlab(\"Weight in kg\") +\n",
        "  ylab(\"Height in cm\") +\n",
        "  geom_smooth(method = \"lm\", se=FALSE, color=\"blue\",fullrange=TRUE,\n",
        "              formula = y ~ x)+\n",
        "  geom_text(x = 70, y = 180, label = lm_eqn(df), parse = TRUE, size = 7)+\n",
        "  geom_segment(aes(xend = x, yend = pre), col=\"red\")"
      ],
      "metadata": {
        "id": "VtV-oKWDmSv0"
      },
      "execution_count": null,
      "outputs": []
    },
    {
      "cell_type": "markdown",
      "source": [
        "$r^2$ is the square of the Pearson correlation coefficient $r = \\frac{\\text{cov}(X, Y)}{\\sigma_X \\sigma_Y}$, the \"coefficient of determination\". In the context of linear regression, it represents the proportion of the variance in the dependent variable that is predictable from the independent variable(s). It quantifies the goodness of fit of the regression model.\n",
        "\n",
        "$r^2$ ranges from 0 to 1.\n",
        "\n",
        "Put the plot on your slide. Write a sentence assessing the goodness of fit of this model in terms of predicting height from weight."
      ],
      "metadata": {
        "id": "AMsdqrBVosG6"
      }
    },
    {
      "cell_type": "markdown",
      "source": [
        "What if we add an outlier?"
      ],
      "metadata": {
        "id": "c82goAp_musz"
      }
    },
    {
      "cell_type": "code",
      "source": [
        "df[nrow(df) + 1,] = c(160,95) # we added a short person who is heavy\n",
        "m<-lm(y~x,df)\n",
        "\n",
        "lm_eqn <- function(df){\n",
        "  m <- lm(y ~ x, df);\n",
        "  eq <- substitute(italic(y) == a + b * italic(x)*\",\" ~ italic(r)^2 ~ \"=\" ~ r2,\n",
        "                       list(a = format(coef(m)[1], digits = 2)[[1]],\n",
        "                            b = format(coef(m)[2], digits = 2)[[1]],\n",
        "                            r2 = format(summary(m)$r.squared, digits = 3)))\n",
        "  as.character(as.expression(eq));\n",
        "}\n",
        "res <- signif(residuals(m), 5)\n",
        "pre <- predict(m)"
      ],
      "metadata": {
        "id": "k1JSysFSmtZx"
      },
      "execution_count": null,
      "outputs": []
    },
    {
      "cell_type": "markdown",
      "source": [
        "Let's inspect the data again. You can see a new value has been added in row 11: someone who is 160 cm tall and who weighs 95kg."
      ],
      "metadata": {
        "id": "q5tX595JpHC4"
      }
    },
    {
      "cell_type": "code",
      "source": [
        "df"
      ],
      "metadata": {
        "id": "mZML5-UcnhD7"
      },
      "execution_count": null,
      "outputs": []
    },
    {
      "cell_type": "markdown",
      "source": [
        "Plot the model again"
      ],
      "metadata": {
        "id": "VxKQzLH0pVzs"
      }
    },
    {
      "cell_type": "code",
      "source": [
        "ggplot(df,aes(x=x,y=y))+geom_point()+\n",
        "  xlab(\"Weight in kg\") +\n",
        "  ylab(\"Height in cm\") +\n",
        "  geom_smooth(method = \"lm\", se=FALSE, color=\"blue\",fullrange=TRUE,\n",
        "              formula = y ~ x)+\n",
        "  geom_text(x = 70, y = 180, label = lm_eqn(df), parse = TRUE, size = 7)+\n",
        "  geom_segment(aes(xend = x, yend = pre), col=\"red\")"
      ],
      "metadata": {
        "id": "UNpk2MzYnCVU"
      },
      "execution_count": null,
      "outputs": []
    },
    {
      "cell_type": "markdown",
      "source": [
        "Add a new slide with the new plot and assess the model in light of this new data!\n"
      ],
      "metadata": {
        "id": "vs9i2tm-pZnZ"
      }
    },
    {
      "cell_type": "markdown",
      "source": [
        "Now add another outlier, a person who is 1.98m tall and 70kg."
      ],
      "metadata": {
        "id": "IQwbZmLRf7H3"
      }
    },
    {
      "cell_type": "code",
      "source": [
        "df[nrow(df) + 1,] = c(198, 70) # we added a short person who is heavy\n",
        "m<-lm(y~x,df)\n",
        "\n",
        "lm_eqn <- function(df){\n",
        "  m <- lm(y ~ x, df);\n",
        "  eq <- substitute(italic(y) == a + b * italic(x)*\",\" ~ italic(r)^2 ~ \"=\" ~ r2,\n",
        "                       list(a = format(coef(m)[1], digits = 2)[[1]],\n",
        "                            b = format(coef(m)[2], digits = 2)[[1]],\n",
        "                            r2 = format(summary(m)$r.squared, digits = 3)))\n",
        "  as.character(as.expression(eq));\n",
        "}\n",
        "res <- signif(residuals(m), 5)\n",
        "pre <- predict(m)"
      ],
      "metadata": {
        "id": "YnJhrNqmnOnx"
      },
      "execution_count": null,
      "outputs": []
    },
    {
      "cell_type": "markdown",
      "source": [
        "Now plot again!"
      ],
      "metadata": {
        "id": "I0XALQ6Upx4k"
      }
    },
    {
      "cell_type": "code",
      "source": [
        "ggplot(df,aes(x=x,y=y))+geom_point()+\n",
        "  xlab(\"Weight in kg\") +\n",
        "  ylab(\"Height in cm\") +\n",
        "  geom_smooth(method = \"lm\", se=FALSE, color=\"blue\",fullrange=TRUE,\n",
        "              formula = y ~ x)+\n",
        "  geom_text(x = 70, y = 180, label = lm_eqn(df), parse = TRUE, size = 7)+\n",
        "  geom_segment(aes(xend = x, yend = pre), col=\"red\")"
      ],
      "metadata": {
        "id": "cZLizzpcpsaO"
      },
      "execution_count": null,
      "outputs": []
    },
    {
      "cell_type": "markdown",
      "source": [
        "Add the new plot on the new slide, and comment on the coefficient of determination!"
      ],
      "metadata": {
        "id": "Ie0bkipNgD4J"
      }
    },
    {
      "cell_type": "markdown",
      "source": [
        "To get summary statistics of a model use the following command:"
      ],
      "metadata": {
        "id": "orHCB6uBp5CJ"
      }
    },
    {
      "cell_type": "code",
      "source": [
        "summary(m)"
      ],
      "metadata": {
        "id": "cjL0gQcfp9DS"
      },
      "execution_count": null,
      "outputs": []
    },
    {
      "cell_type": "markdown",
      "source": [
        "#### Model Information:\n",
        "Call: The formula used to fit the linear model. In this case, it's y ~ x, indicating that the dependent variable y is modeled as a linear function of the independent variable x.\n",
        "#### Residuals:\n",
        "Min, 1Q, Median, 3Q, Max: Descriptive statistics of the residuals (the differences between the observed and predicted values). These statistics provide insights into the spread and central tendency of the residuals.\n",
        "#### Coefficients:\n",
        "* Intercept (Estimate): The estimated intercept of the linear regression equation. In this case, the intercept is approximately 154.2002.\n",
        "* x (Estimate): The estimated coefficient for the variable x. In this case, the coefficient is approximately 0.2428.\n",
        "* Std. Error: Standard errors associated with the coefficient estimates. These indicate the precision of the estimates.\n",
        "* t value: The t-statistic for testing the null hypothesis that the coefficient is equal to zero.\n",
        "* Pr(>|t|): The p-value associated with the t-test. It indicates the probability of observing a t-statistic as extreme as the one computed, assuming the null hypothesis is true.\n",
        "* Significance Codes: Asterisks indicating the level of statistical significance (* for p < 0.05, ** for p < 0.01, *** for p < 0.001).\n",
        "\n",
        "#### Model Summary:\n",
        "* Residual standard error: An estimate of the standard deviation of the residuals.\n",
        "* Degrees of Freedom: The degrees of freedom associated with the residuals.\n",
        "* Multiple R-squared: This is the coefficient of determination: the proportion of variance in the dependent variable y explained by the independent variable x.\n",
        "* Adjusted R-squared: The R-squared adjusted for the number of predictors in the model.\n",
        "* F-statistic: The F-statistic for testing the overall significance of the model.\n",
        "* p-value: The p-value associated with the F-statistic.\n",
        "\n",
        "#### Interpretation:\n",
        "* The intercept (154.2002) is statistically significant (p < 0.001).\n",
        "* The coefficient for x (0.2428) is not statistically significant (p = 0.449).\n",
        "* The model as a whole is not statistically significant, as indicated by the * * p-value associated with the F-statistic (p = 0.4493).\n",
        "* The Multiple R-squared (0.05837) suggests that the model explains a small proportion of the variance in the dependent variable.\n",
        "* Overall, based on the information provided, it seems that the linear model does not provide a statistically significant relationship between the variables, and the explanatory power of the model is limited (low R-squared)."
      ],
      "metadata": {
        "id": "D4urPDvuqSHo"
      }
    },
    {
      "cell_type": "markdown",
      "source": [
        "### Visualizing a few regressions\n",
        "\n",
        "* Some material borrowed from http://www.danielezrajohnson.com/glasgow_workshop.R\n"
      ],
      "metadata": {
        "id": "3tH1cLxPrH8t"
      }
    },
    {
      "cell_type": "code",
      "source": [
        "set.seed(2)  #This makes random values reproducible\n",
        "library(tidyverse) # This is a package for data analysis\n",
        "\n",
        "#Let's generate two sets of points and plot them\n",
        "\n",
        "x1 <- runif(10, 0, 2)  #10 random values between 0 and 2\n",
        "y1 <- 0 + x1*0.8 + rnorm(10,0,0.1) #10 corresponding y values\n",
        "\n",
        "x2 <- runif(10, 0, 2) #10 random values between 0 and 2\n",
        "y2 <- 1 + x2*0.4  + rnorm(10,0,0.1) #10 corresponding y values\n",
        "\n",
        "df_1 <- data.frame(x1,y1) #we put them in a data frame\n",
        "\n",
        "df_1 #show the data frame\n",
        "\n",
        "df_2 <- data.frame(x2,y2) # second data frame\n",
        "\n",
        "df_3 <- data.frame(c(x1,x2),c(y1,y2));names(df_3) <- c(\"x3\",\"y3\")"
      ],
      "metadata": {
        "id": "6x46m8nVrTgi"
      },
      "execution_count": null,
      "outputs": []
    },
    {
      "cell_type": "markdown",
      "source": [
        "Let's create a plot of the first set of points"
      ],
      "metadata": {
        "id": "Ds5_wrR8rZXi"
      }
    },
    {
      "cell_type": "code",
      "source": [
        "p <- ggplot(data = df_1) +\n",
        "  geom_point(mapping = aes(x = x1, y = y1), color=\"blue\")\n",
        "\n",
        "#View the plot with\n",
        "p"
      ],
      "metadata": {
        "id": "IeEhCP0ArcWP"
      },
      "execution_count": null,
      "outputs": []
    },
    {
      "cell_type": "code",
      "source": [
        "#Now add the second set of points\n",
        "p1 <- p + geom_point(data=df_2,mapping = aes(x = x2, y = y2),color=\"red\")\n",
        "p1"
      ],
      "metadata": {
        "id": "C3-WDp1lrhBo"
      },
      "execution_count": null,
      "outputs": []
    },
    {
      "cell_type": "markdown",
      "source": [
        "* `lm` is the function to create a linear model\n",
        "* We create a linear model regressing the y1 data with the x1 data in the df_1 data frame\n",
        "* We save it in `m` and check the summary"
      ],
      "metadata": {
        "id": "yeTzji5Lr2oq"
      }
    },
    {
      "cell_type": "code",
      "source": [
        "m<-lm(y1~x1,df_1)\n",
        "\n",
        "summary(m)"
      ],
      "metadata": {
        "id": "HsT1gjSkrtS_"
      },
      "execution_count": null,
      "outputs": []
    },
    {
      "cell_type": "markdown",
      "source": [
        "This is a function to write the equation for the line on the plot"
      ],
      "metadata": {
        "id": "-d5mu3z_rzku"
      }
    },
    {
      "cell_type": "code",
      "source": [
        "\n",
        "lm_eqn1 <- function(df,y){\n",
        "  m <- lm(y ~ 1, df);\n",
        "  eq <- substitute(italic(y) == a + b * italic(x)*\",\"~~italic(r)^2~\"=\"~r2,\n",
        "                   list(a = format(coef(m)[1], digits = 3)[[1]],\n",
        "                        b = 0,\n",
        "                        r2 = format(summary(m)$r.squared, digits = 3)))\n",
        "  as.character(as.expression(eq));\n",
        "}"
      ],
      "metadata": {
        "id": "0j9xS8QfryPX"
      },
      "execution_count": 33,
      "outputs": []
    },
    {
      "cell_type": "markdown",
      "source": [
        "Put this plot on your slides and comment on the regression in terms of the coefficient of determination and the F-statistic."
      ],
      "metadata": {
        "id": "W_XyWdt9ibBs"
      }
    },
    {
      "cell_type": "markdown",
      "source": [
        "Let's start with an \"intercept only\" regression. This simply maps a line at the mean of the values. For the blue points:"
      ],
      "metadata": {
        "id": "_gmOLU-FsM3e"
      }
    },
    {
      "cell_type": "code",
      "source": [
        "p + geom_point(data = df_2,aes(x=x2,y=y2),color=\"red\")+\n",
        "  geom_smooth(aes(x = x1, y = y1), data = df_1, fullrange=TRUE,\n",
        "              method = \"lm\", se = FALSE, color = \"blue\", formula = y ~ 1)+\n",
        "  geom_text(x = .45, y = mean(df_1$y1)+.05, label = lm_eqn1(df_1,y1), parse = TRUE,\n",
        "            color=\"blue\", size=5)"
      ],
      "metadata": {
        "id": "IDqOqYn_sSF8"
      },
      "execution_count": null,
      "outputs": []
    },
    {
      "cell_type": "markdown",
      "source": [
        "Add the red points"
      ],
      "metadata": {
        "id": "hin_Ws9ksvrz"
      }
    },
    {
      "cell_type": "code",
      "source": [
        "p + geom_point(data = df_2,aes(x=x2,y=y2),color=\"red\")+\n",
        "  geom_smooth(aes(x = x2, y = y2), data = df_2, fullrange=TRUE,\n",
        "              method = \"lm\", se = FALSE, color = \"red\", formula = y ~ 1)+\n",
        "  geom_smooth(aes(x = x1, y = y1), data = df_1, fullrange=TRUE,\n",
        "              method = \"lm\", se = FALSE, color = \"blue\", formula = y ~ 1)+\n",
        "  geom_text(x = .45, y = mean(df_2$y2)+.05, label = lm_eqn1(df_2, y2), parse = TRUE,\n",
        "            color=\"red\", size=5)+\n",
        "  geom_text(x = .45, y = mean(df_1$y1)+.05, label = lm_eqn1(df_1, y1), parse = TRUE,\n",
        "            color=\"blue\", size=5)"
      ],
      "metadata": {
        "id": "TUo8KvQgsv_m"
      },
      "execution_count": null,
      "outputs": []
    },
    {
      "cell_type": "markdown",
      "source": [
        "\n",
        "Now the combined data set"
      ],
      "metadata": {
        "id": "jSktJ7Yds50C"
      }
    },
    {
      "cell_type": "code",
      "source": [
        "p + geom_point(data = df_2,aes(x=x2,y=y2),color=\"red\")+\n",
        "  geom_smooth(aes(x = x2, y = y2), data = df_2, fullrange=TRUE,\n",
        "              method = \"lm\", se = FALSE, color = \"red\", formula = y ~ 1)+\n",
        "  geom_smooth(aes(x = x1, y = y1), data = df_1, fullrange=TRUE,\n",
        "              method = \"lm\", se = FALSE, color = \"blue\", formula = y ~ 1)+\n",
        "  geom_smooth(aes(x = x3, y = y3), data = df_3, fullrange=TRUE,\n",
        "              method = \"lm\", se = FALSE, color = \"gray\", formula = y ~ 1)+\n",
        "  geom_text(x = .45, y = mean(df_2$y2)+.05, label = lm_eqn1(df_2, y2), parse = TRUE,\n",
        "            color=\"red\", size=5)+\n",
        "  geom_text(x = .45, y = mean(df_1$y1)+.05, label = lm_eqn1(df_1, y1), parse = TRUE,\n",
        "            color=\"blue\", size=5)+\n",
        "  geom_text(x = .45, y = mean(df_3$y3)+.05, label = lm_eqn1(df_3, df_3$y3), parse = TRUE,\n",
        "            color=\"gray\",size=5)"
      ],
      "metadata": {
        "id": "0kjjkPr8s8my"
      },
      "execution_count": null,
      "outputs": []
    },
    {
      "cell_type": "markdown",
      "source": [
        "Put this plot on your slides. Do these models predict the y values?"
      ],
      "metadata": {
        "id": "u4Ha94ali3F5"
      }
    },
    {
      "cell_type": "markdown",
      "source": [
        "Now let's try with one predictor\n",
        "* New function to write the equation"
      ],
      "metadata": {
        "id": "s-5FzNoTuUMY"
      }
    },
    {
      "cell_type": "code",
      "source": [
        "lm_eqn1 <- function(df,y,x){\n",
        "  m1 <- lm(y ~ x, df);\n",
        "  eq1 <- substitute(italic(y) == a + b * italic(x)*\",\"~~italic(r)^2~\"=\"~r2,\n",
        "                   list(a = format(coef(m1)[1], digits = 2)[[1]],\n",
        "                        b = format(coef(m1)[2], digits = 2)[[1]],\n",
        "                        r2 = format(summary(m1)$r.squared, digits = 3)))\n",
        "  as.character(as.expression(eq1));\n",
        "}\n",
        "\n",
        "res <- signif(residuals(m), 5) #residuals\n",
        "\n",
        "pre <- predict(m)"
      ],
      "metadata": {
        "id": "bbxJ2E_JuYXV"
      },
      "execution_count": 38,
      "outputs": []
    },
    {
      "cell_type": "markdown",
      "source": [
        "Ordinary least squares regression of blue points"
      ],
      "metadata": {
        "id": "f8IKJwDPuemg"
      }
    },
    {
      "cell_type": "code",
      "source": [
        "p + geom_point(data = df_2,aes(x=x2,y=y2),color=\"red\")+\n",
        "  geom_smooth(aes(x = x1, y = y1), data = df_1, fullrange=TRUE,\n",
        "              method = \"lm\", se = FALSE, color = \"blue\", formula = y ~ x)+\n",
        "  geom_text(x = 1.5, y = .73, label = lm_eqn1(df_1,y1,x1), parse = TRUE,\n",
        "            color=\"blue\", size=5)"
      ],
      "metadata": {
        "id": "znQBO4P6ud8w"
      },
      "execution_count": null,
      "outputs": []
    },
    {
      "cell_type": "code",
      "source": [
        "#note the intercept and the slope. r^2 is close to 1, this means the model\n",
        "# is accurate (the blue points are close to the blue line)\n",
        "\n",
        "# add red points\n",
        "\n",
        "p + geom_point(data = df_2,aes(x=x2,y=y2),color=\"red\")+\n",
        "  geom_smooth(aes(x = x1, y = y1), data = df_1, fullrange=TRUE,\n",
        "              method = \"lm\", se = FALSE, color = \"blue\", formula = y ~ x)+\n",
        "  geom_text(x = 1.5, y = .73, label = lm_eqn1(df_1,y1,x1), parse = TRUE,\n",
        "            color=\"blue\", size=5)+\n",
        "  geom_smooth(aes(x = x2, y = y2), data = df_2, fullrange=TRUE,\n",
        "              method = \"lm\", se = FALSE, color = \"red\", formula = y ~ x)+\n",
        "  geom_text(x = .65, y = 1.6, label = lm_eqn1(df_2,y2,x2), parse = TRUE,\n",
        "            color=\"red\", size=5)\n",
        "\n",
        "#note the intercept and the slope. r^2 is a bit lower, this means the model\n",
        "# is a bit less accurate (the red points are further from the red line)"
      ],
      "metadata": {
        "id": "oSk1bo-kvcfg"
      },
      "execution_count": null,
      "outputs": []
    },
    {
      "cell_type": "code",
      "source": [
        "# complete set\n",
        "\n",
        "p + geom_point(data = df_2,aes(x=x2,y=y2),color=\"red\")+\n",
        "  geom_smooth(aes(x = x2, y = y2), data = df_2, fullrange=TRUE,\n",
        "              method = \"lm\", se = FALSE, color = \"red\", formula = y ~ x)+\n",
        "  geom_smooth(aes(x = x1, y = y1), data = df_1, fullrange=TRUE,\n",
        "              method = \"lm\", se = FALSE, color = \"blue\", formula = y ~ x)+\n",
        "  geom_smooth(aes(x = x3, y = y3), data = df_3, fullrange=TRUE,\n",
        "              method = \"lm\", se = FALSE, color = \"gray\", formula = y ~ x)+\n",
        "  geom_text(x = .65, y = 1.6, label = lm_eqn1(df_2,y2,x2), parse = TRUE,\n",
        "            color=\"red\", size=5) +\n",
        "  geom_text(x = 1.5, y = .73, label = lm_eqn1(df_1,y1,x1), parse = TRUE,\n",
        "            color=\"blue\", size=5)+\n",
        "  geom_text(x = .68, y = .9, label = lm_eqn1(df_3,df_3$y3,df_3$x3), parse = TRUE,\n",
        "            color=\"gray\",size=5)\n"
      ],
      "metadata": {
        "id": "ukngmLrZvcia"
      },
      "execution_count": null,
      "outputs": []
    },
    {
      "cell_type": "markdown",
      "source": [
        "Put the plot on your slides. Comment on the three models. Which is more accurate?\n"
      ],
      "metadata": {
        "id": "be-aBuTDjUfO"
      }
    },
    {
      "cell_type": "markdown",
      "source": [
        "There are different ways to visualize data using R. We have been using the ggplot 2 package. Here is the same thing in the \"base\" package."
      ],
      "metadata": {
        "id": "6zVnK2Z8k5fw"
      }
    },
    {
      "cell_type": "code",
      "source": [
        "plot.new()\n",
        "plot.window(xlim = c(0, 2), ylim = c(0, 2), asp = 1)\n",
        "#blankslide()\n",
        "axis(1, at = seq(0,2,.2))\n",
        "axis(2, at = seq(0,2,.2))\n",
        "points(x1, y1, pch = 19, col = \"blue\")\n",
        "points(x2, y2, pch = 19, col = \"red\")\n",
        "\n",
        "title(main = \"lm(y ~ x)\")\n",
        "\n",
        "abline(m1 <- lm(c(y1, y2) ~ c(x1, x2)), lwd = 2)\n",
        "text(1.5, 0.5, paste(\"intercept =\", round(coef(m1)[1],2)), cex = 1)\n",
        "text(1.5, 0.3, paste(\"slope =\", round(coef(m1)[2],2)), cex = 1)"
      ],
      "metadata": {
        "id": "KPZttifcvclA"
      },
      "execution_count": null,
      "outputs": []
    },
    {
      "cell_type": "markdown",
      "source": [
        "Put it on your slides!"
      ],
      "metadata": {
        "id": "cVGgMVuDk-cn"
      }
    },
    {
      "cell_type": "markdown",
      "source": [
        "Now let's work with some of Bill Labov's data from his classic department store study from the 1960s."
      ],
      "metadata": {
        "id": "53wTPN7dlDo2"
      }
    },
    {
      "cell_type": "code",
      "source": [
        "######### LABOV DATA\n",
        "\n",
        "ds<-read.csv(\"http://www.danielezrajohnson.com/ds.csv\")\n",
        "\n",
        "#examine the data\n",
        "head(ds)\n",
        "str(ds)\n",
        "\n"
      ],
      "metadata": {
        "id": "7HHEvvnmvwlt"
      },
      "execution_count": null,
      "outputs": []
    },
    {
      "cell_type": "markdown",
      "source": [
        "Here, each row is a response. The columns show whether /r/ was realized (1 for yes, 0 for no), the name of the store, the emphasis (normal or emphatic, in other words the initial response or the response when the informant was asked to repeat it), and the word (\"fourth\" or \"floor\")."
      ],
      "metadata": {
        "id": "5SDVpif7l9R2"
      }
    },
    {
      "cell_type": "code",
      "source": [
        "#Let's make some barplots\n",
        "bp<-barplot(table(ds$r,ds$store),main=\"r realization by store (Labov 1966)\",col=c(\"darkblue\",\"red\"),legend=c(\"no r realization\",\"r realization\"), ylim=c(0,500),beside=T)\n",
        "text(as.vector(table(ds$r,ds$store)),x=bp,y=unname(as.vector(table(ds$r,ds$store)))+10)"
      ],
      "metadata": {
        "id": "jn-ZYK-evwoo"
      },
      "execution_count": null,
      "outputs": []
    },
    {
      "cell_type": "code",
      "source": [
        "\n",
        "bp<-barplot(table(ds$r,ds$emphasis),main=\"r realization by emphasis (Labov 1966)\",col=c(\"darkblue\",\"red\"),legend=c(\"no r realization\",\"r realization\"), ylim=c(0,500),beside=T)\n",
        "text(as.vector(table(ds$r,ds$emphasis)),x=bp,y=unname(as.vector(table(ds$r,ds$emphasis)))+10)"
      ],
      "metadata": {
        "id": "VkKjCqN2w-sm"
      },
      "execution_count": null,
      "outputs": []
    },
    {
      "cell_type": "code",
      "source": [
        "\n",
        "bp<-barplot(table(ds$r,ds$word),main=\"r realization by word (Labov 1966)\",col=c(\"darkblue\",\"red\"),legend=c(\"no r realization\",\"r realization\"), ylim=c(0,500),beside=T)\n",
        "text(as.vector(table(ds$r,ds$word)),x=bp,y=unname(as.vector(table(ds$r,ds$word)))+10)"
      ],
      "metadata": {
        "id": "GnGjq3Vqw-vN"
      },
      "execution_count": null,
      "outputs": []
    },
    {
      "cell_type": "markdown",
      "source": [
        "Put these plots on your slides and interpret them!"
      ],
      "metadata": {
        "id": "DFZxgtwgqCxj"
      }
    },
    {
      "cell_type": "markdown",
      "source": [
        "We will create a logistic regression model. This is done using the `glm()` function. The syntax is similar to that of the linear regression function `lm()`."
      ],
      "metadata": {
        "id": "8hsWTZwglQSL"
      }
    },
    {
      "cell_type": "code",
      "source": [
        "#\n",
        "\n",
        "m0<-glm(r~1,ds,family=binomial)   #a baseline in which r is always 1\n",
        "\n",
        "ms<-glm(r~store,ds,family=binomial(link=\"logit\")) #predict r from the store\n",
        "ms1<-glm(r~word,ds,family=binomial(link=\"logit\")) #predict r from the word\n",
        "mf<-glm(r~store+word+emphasis,ds,family=binomial(link=\"logit\")) #predict\n",
        "#from all three independent variables\n",
        "\n",
        "summary(mf)"
      ],
      "metadata": {
        "id": "Ig3qrt6SlT9c"
      },
      "execution_count": null,
      "outputs": []
    },
    {
      "cell_type": "code",
      "source": [
        "mf"
      ],
      "metadata": {
        "id": "bG_sN_qlml69"
      },
      "execution_count": null,
      "outputs": []
    },
    {
      "cell_type": "code",
      "source": [
        "install.packages(\"effects\") #package to visualize generalized linear models\n",
        "library(effects)\n",
        "plot(allEffects(mf))"
      ],
      "metadata": {
        "id": "yhSgxmu_w-xr"
      },
      "execution_count": null,
      "outputs": []
    },
    {
      "cell_type": "code",
      "source": [
        "newdatamf <- data.frame(r = c(0,0,0,0,0,0,0,0,1,1,1,1,1,1,1,1,0,1,0,1),\n",
        "                        store = c(rep(\"Macy's\",10),rep(\"Saks\",10)),\n",
        "                        emphasis = rep(c(rep(\"emphatic\",2),rep(\"normal\",2)),5),\n",
        "                        word = rep(c(\"fouRth\",\"flooR\"),10))\n",
        "\n",
        "mfnd <- as.data.frame(predict(mf, newdata = newdatamf,\n",
        "                              type=\"link\", se=TRUE))\n",
        "\n",
        "new.data <- cbind(newdatamf, mfnd)\n",
        "std <- qnorm(0.95 / 2 + 0.5)\n",
        "\n",
        "m0<-glm(r~1,newdatamf,family=binomial)   #a baseline in which r is always 1\n",
        "\n",
        "new.data$ymin <- m0$family$linkinv(new.data$fit - std * new.data$se)\n",
        "new.data$ymax <- m0$family$linkinv(new.data$fit + std * new.data$se)\n",
        "new.data$fit <- m0$family$linkinv(new.data$fit)  # Rescale to 0-1\n",
        "p <- ggplot(new.data, aes(x=word, y=r))\n",
        "p + geom_point() +\n",
        "  geom_ribbon(data=new.data, aes(y=fit, ymin=ymin, ymax=ymax), alpha=0.5) +\n",
        "  geom_line(data=new.data, aes(y=fit)) +\n",
        "  labs(x=\"store\", y=\"r\")\n"
      ],
      "metadata": {
        "id": "4rffpw5cxIAv"
      },
      "execution_count": null,
      "outputs": []
    },
    {
      "cell_type": "code",
      "source": [
        "###########RBRUL\n",
        "#source(\"http://www.danielezrajohnson.com/Rbrul.R\")\n",
        "#rbrul()\n",
        "############# USING GOLDVARB\n",
        "#http://individual.utoronto.ca/ngn/lab/goldvarb.htm"
      ],
      "metadata": {
        "id": "uRSMrrZRxIDK"
      },
      "execution_count": null,
      "outputs": []
    },
    {
      "cell_type": "code",
      "source": [
        "############ Schneider and Lauber https://dlf.uzh.ch/openbooks/statisticsforlinguists/chapter/logistic-regression/\n",
        "\n",
        "#English has so-called ditransitive verbs. These are verbs that can take two objects\n",
        "#Consider the sentences:\n",
        "# 1. She gave the book to me.\n",
        "# 2. She gave me the book.\n",
        "# In first sentence, we have a single object and a prepositional phrase.\n",
        "# In the second sentence, we have a ditransitive construction with two objects (the indirect object \"me\" and the direct object \"the book\")\n",
        "# The sentences mean the same thing. The question arises: Why might someone use sentence 1 instead of sentence 2?\n",
        "# More broadly, what conditions the use of ditransitive constructions?\n",
        "# Some social parameters might affect this, but in the following let's consider sentence-internal factors.\n",
        "\n",
        "# Take a look at this data\n",
        "\n",
        "\n",
        "verbs <- read.table(\"https://dlf.uzh.ch/openbooks/statisticsforlinguists/wp-content/uploads/sites/23/2019/08/verbs.txt\", header=TRUE, comment.char=\"\", row.names=1)\n",
        "\n",
        "# This is the ditransitive verbs data\n",
        "\n",
        "head(verbs)\n",
        "\n",
        "#We see the first six rows. Each row summarizes a sentence.\n",
        "#\"RealizationOfRec\" stands for \"realization of recipient\". This can be NP \"noun phrase\" or PP \"prepositional phrase\"\n",
        "# In this data, NP indicates the ditransitive construction was used.\n",
        "# \"Verb\" is the verb used in the sentence.\n",
        "# \"AnimacyOfRec\" is whether or not the recipient in the sentence is animate (a living being).\n",
        "# For example, in \"I gave her one Euro\", the recipient is animate. In \"I gave it a try\", the recipient is inanimate.\n",
        "# Likewise, \"AnimacyOfThem\" shows if the subject/agent of the sentence is alive.\n",
        "# LengthOfTheme shows the logarithm of the length in words of the direct object. For example, \"He gave me a really old book which he had found in an antiques shop\" has a long theme and would have a value of 2.5.\n",
        "# \"He gave me a book\" has a short theme and would have a value of 0 (log(1) = 0).\n"
      ],
      "metadata": {
        "id": "Gkedhzjrm8no"
      },
      "execution_count": null,
      "outputs": []
    },
    {
      "cell_type": "code",
      "source": [
        "#siarad<-read.csv(\"http://www.danielezrajohnson.com/siarad.csv\")\n",
        "#siarad"
      ],
      "metadata": {
        "id": "uGEmBCN5yvjw"
      },
      "execution_count": null,
      "outputs": []
    },
    {
      "cell_type": "code",
      "source": [
        "# Let's create crosstabs\n",
        "\n",
        "tabAnimacyRealiz <- xtabs(~ AnimacyOfRec + RealizationOfRec, data=verbs)\n",
        "tabAnimacyRealiz"
      ],
      "metadata": {
        "id": "iajZhVza1C0d"
      },
      "execution_count": null,
      "outputs": []
    },
    {
      "cell_type": "code",
      "source": [
        "chisq.test(tabLengthRealiz)"
      ],
      "metadata": {
        "id": "W6DbWydd1OMA"
      },
      "execution_count": null,
      "outputs": []
    },
    {
      "cell_type": "code",
      "source": [
        "tabLengthRealiz <- xtabs(~ LengthOfTheme + RealizationOfRec, data=verbs)\n",
        "tabLengthRealiz"
      ],
      "metadata": {
        "id": "32ZGNjjT1C2j"
      },
      "execution_count": null,
      "outputs": []
    },
    {
      "cell_type": "code",
      "source": [
        "chisq.test(tabAnimacyRealiz)"
      ],
      "metadata": {
        "id": "cgAkBxS51Kqw"
      },
      "execution_count": null,
      "outputs": []
    },
    {
      "cell_type": "code",
      "source": [
        "# In order to correctly code the categorical variables, we must convert them to \"factors\"\n",
        "\n",
        "verbs$RealizationOfRec <- as.factor(verbs$RealizationOfRec)\n",
        "verbs$Verb             <- as.factor(verbs$Verb)\n",
        "verbs$AnimacyOfRec     <- as.factor(verbs$AnimacyOfRec)\n",
        "verbs$AnimacyOfTheme   <- as.factor(verbs$AnimacyOfTheme)\n",
        "\n",
        "# Now let's create a \"generalized linear model\", and specifically, a logistic regression model\n",
        "verbfit = glm(RealizationOfRec ~ Verb + AnimacyOfRec + AnimacyOfTheme + LengthOfTheme, family = binomial, data = verbs)\n",
        "summary(verbfit)"
      ],
      "metadata": {
        "id": "5V0_opA01Ktc"
      },
      "execution_count": null,
      "outputs": []
    },
    {
      "cell_type": "code",
      "source": [
        "# Let's set up the odds ratio\n",
        "\n",
        "NP <- nrow(verbs[verbs$RealizationOfRec==\"NP\",])\n",
        "PP <- nrow(verbs[verbs$RealizationOfRec==\"PP\",])\n"
      ],
      "metadata": {
        "id": "Q1QSQQKI1Kvy"
      },
      "execution_count": null,
      "outputs": []
    },
    {
      "cell_type": "code",
      "source": [
        "oddsPP <- (PP/(NP+PP))/(NP/(NP+PP))\n",
        "log(oddsPP)"
      ],
      "metadata": {
        "id": "eCYQCTeA1bec"
      },
      "execution_count": null,
      "outputs": []
    },
    {
      "cell_type": "code",
      "source": [
        "# Null model\n",
        "verbnull = glm(RealizationOfRec ~ 1, family = binomial, data = verbs)\n",
        "summary(verbnull)\n",
        "\n",
        "verbs$predict = predict(verbfit, data=verbs)\n",
        "head(verbs$predict); tail(verbs$predict)\n",
        "\n",
        "verbs$predictb = round(predict(verbfit, data=verbs, type=\"response\"))\n",
        "\n",
        "verbs$predictb"
      ],
      "metadata": {
        "id": "fu1YXVRJ1bg-"
      },
      "execution_count": null,
      "outputs": []
    },
    {
      "cell_type": "code",
      "source": [
        "# Comparison of real data with model\n",
        "\n",
        "confm = xtabs(~verbs$RealizationOfRec + verbs$predictb)\n",
        "confm\n",
        "\n",
        "(confm[1,1] + confm[2,2]) / sum(confm)"
      ],
      "metadata": {
        "id": "zSycIyhs1lgy"
      },
      "execution_count": null,
      "outputs": []
    },
    {
      "cell_type": "code",
      "source": [
        "#Visualize\n",
        "\n",
        "verbs$exp <- exp(verbs$LengthOfTheme) #converting from log values\n",
        "verbs$default <- ifelse(verbs$RealizationOfRec == \"PP\",1,0)\n",
        "# Run logistic regression model just using length of theme\n",
        "lt_model <- glm(default ~ exp, data=verbs, family=binomial(link=\"logit\"))"
      ],
      "metadata": {
        "id": "8dUdNQPK1ljZ"
      },
      "execution_count": null,
      "outputs": []
    },
    {
      "cell_type": "code",
      "source": [
        "# Create a temporary data frame of hypothetical values\n",
        "temp.data <- data.frame(exp = seq(-40,40,1))\n",
        "\n",
        "# Predict the fitted values given the model and hypothetical data\n",
        "predicted.data <- as.data.frame(predict(lt_model, newdata = temp.data,\n",
        "                                        type=\"link\", se=TRUE))\n"
      ],
      "metadata": {
        "id": "-MhCdaEz1lue"
      },
      "execution_count": null,
      "outputs": []
    },
    {
      "cell_type": "code",
      "source": [
        "# Combine the hypothetical data and predicted values\n",
        "new.data <- cbind(temp.data, predicted.data)\n",
        "range01 <- function(x) {\n",
        "  (x - min(x)) / (max(x) - min(x))\n",
        "}\n",
        "# Calculate confidence intervals\n",
        "std <- qnorm(0.95 / 2 + 0.5)\n",
        "new.data$ymin <- lt_model$family$linkinv(new.data$fit - std * new.data$se)\n",
        "new.data$ymax <- lt_model$family$linkinv(new.data$fit + std * new.data$se)\n",
        "new.data$fit <- lt_model$family$linkinv(new.data$fit)  # Rescale to 0-1"
      ],
      "metadata": {
        "id": "-i-b3KVv1ybX"
      },
      "execution_count": null,
      "outputs": []
    },
    {
      "cell_type": "code",
      "source": [
        "# Plot everything\n",
        "p <- ggplot(verbs, aes(x=exp, y=default))\n",
        "p + geom_point() +\n",
        "  geom_ribbon(data=new.data, aes(y=fit, ymin=ymin, ymax=ymax), alpha=0.5) +\n",
        "  geom_line(data=new.data, aes(y=fit)) +\n",
        "  labs(x=\"LengthOfTheme\", y=\"RealizationOfRec\")"
      ],
      "metadata": {
        "id": "mMPHH0-d1ydm"
      },
      "execution_count": null,
      "outputs": []
    }
  ]
}